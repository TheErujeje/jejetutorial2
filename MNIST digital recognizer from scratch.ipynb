{
 "cells": [
  {
   "cell_type": "code",
   "execution_count": 1,
   "id": "ce868217",
   "metadata": {},
   "outputs": [],
   "source": [
    "import numpy as np\n",
    "import pandas as pd"
   ]
  },
  {
   "cell_type": "code",
   "execution_count": 2,
   "id": "a3f48c19",
   "metadata": {},
   "outputs": [],
   "source": [
    "import matplotlib.pyplot as plt"
   ]
  },
  {
   "cell_type": "code",
   "execution_count": 3,
   "id": "d4bee99d",
   "metadata": {},
   "outputs": [],
   "source": [
    "data = pd.read_csv('C:/Users/jeje/Desktop/JupyterNotebookFiles/traindata.csv')"
   ]
  },
  {
   "cell_type": "code",
   "execution_count": 4,
   "id": "c70bd5f7",
   "metadata": {},
   "outputs": [
    {
     "data": {
      "text/html": [
       "<div>\n",
       "<style scoped>\n",
       "    .dataframe tbody tr th:only-of-type {\n",
       "        vertical-align: middle;\n",
       "    }\n",
       "\n",
       "    .dataframe tbody tr th {\n",
       "        vertical-align: top;\n",
       "    }\n",
       "\n",
       "    .dataframe thead th {\n",
       "        text-align: right;\n",
       "    }\n",
       "</style>\n",
       "<table border=\"1\" class=\"dataframe\">\n",
       "  <thead>\n",
       "    <tr style=\"text-align: right;\">\n",
       "      <th></th>\n",
       "      <th>Unnamed: 0</th>\n",
       "      <th>label</th>\n",
       "      <th>pixel0</th>\n",
       "      <th>pixel1</th>\n",
       "      <th>pixel2</th>\n",
       "      <th>pixel3</th>\n",
       "      <th>pixel4</th>\n",
       "      <th>pixel5</th>\n",
       "      <th>pixel6</th>\n",
       "      <th>pixel7</th>\n",
       "      <th>...</th>\n",
       "      <th>pixel774</th>\n",
       "      <th>pixel775</th>\n",
       "      <th>pixel776</th>\n",
       "      <th>pixel777</th>\n",
       "      <th>pixel778</th>\n",
       "      <th>pixel779</th>\n",
       "      <th>pixel780</th>\n",
       "      <th>pixel781</th>\n",
       "      <th>pixel782</th>\n",
       "      <th>pixel783</th>\n",
       "    </tr>\n",
       "  </thead>\n",
       "  <tbody>\n",
       "    <tr>\n",
       "      <th>0</th>\n",
       "      <td>0</td>\n",
       "      <td>1</td>\n",
       "      <td>0</td>\n",
       "      <td>0</td>\n",
       "      <td>0</td>\n",
       "      <td>0</td>\n",
       "      <td>0</td>\n",
       "      <td>0</td>\n",
       "      <td>0</td>\n",
       "      <td>0</td>\n",
       "      <td>...</td>\n",
       "      <td>0</td>\n",
       "      <td>0</td>\n",
       "      <td>0</td>\n",
       "      <td>0</td>\n",
       "      <td>0</td>\n",
       "      <td>0</td>\n",
       "      <td>0</td>\n",
       "      <td>0</td>\n",
       "      <td>0</td>\n",
       "      <td>0</td>\n",
       "    </tr>\n",
       "    <tr>\n",
       "      <th>1</th>\n",
       "      <td>1</td>\n",
       "      <td>0</td>\n",
       "      <td>0</td>\n",
       "      <td>0</td>\n",
       "      <td>0</td>\n",
       "      <td>0</td>\n",
       "      <td>0</td>\n",
       "      <td>0</td>\n",
       "      <td>0</td>\n",
       "      <td>0</td>\n",
       "      <td>...</td>\n",
       "      <td>0</td>\n",
       "      <td>0</td>\n",
       "      <td>0</td>\n",
       "      <td>0</td>\n",
       "      <td>0</td>\n",
       "      <td>0</td>\n",
       "      <td>0</td>\n",
       "      <td>0</td>\n",
       "      <td>0</td>\n",
       "      <td>0</td>\n",
       "    </tr>\n",
       "    <tr>\n",
       "      <th>2</th>\n",
       "      <td>2</td>\n",
       "      <td>1</td>\n",
       "      <td>0</td>\n",
       "      <td>0</td>\n",
       "      <td>0</td>\n",
       "      <td>0</td>\n",
       "      <td>0</td>\n",
       "      <td>0</td>\n",
       "      <td>0</td>\n",
       "      <td>0</td>\n",
       "      <td>...</td>\n",
       "      <td>0</td>\n",
       "      <td>0</td>\n",
       "      <td>0</td>\n",
       "      <td>0</td>\n",
       "      <td>0</td>\n",
       "      <td>0</td>\n",
       "      <td>0</td>\n",
       "      <td>0</td>\n",
       "      <td>0</td>\n",
       "      <td>0</td>\n",
       "    </tr>\n",
       "    <tr>\n",
       "      <th>3</th>\n",
       "      <td>3</td>\n",
       "      <td>4</td>\n",
       "      <td>0</td>\n",
       "      <td>0</td>\n",
       "      <td>0</td>\n",
       "      <td>0</td>\n",
       "      <td>0</td>\n",
       "      <td>0</td>\n",
       "      <td>0</td>\n",
       "      <td>0</td>\n",
       "      <td>...</td>\n",
       "      <td>0</td>\n",
       "      <td>0</td>\n",
       "      <td>0</td>\n",
       "      <td>0</td>\n",
       "      <td>0</td>\n",
       "      <td>0</td>\n",
       "      <td>0</td>\n",
       "      <td>0</td>\n",
       "      <td>0</td>\n",
       "      <td>0</td>\n",
       "    </tr>\n",
       "    <tr>\n",
       "      <th>4</th>\n",
       "      <td>4</td>\n",
       "      <td>0</td>\n",
       "      <td>0</td>\n",
       "      <td>0</td>\n",
       "      <td>0</td>\n",
       "      <td>0</td>\n",
       "      <td>0</td>\n",
       "      <td>0</td>\n",
       "      <td>0</td>\n",
       "      <td>0</td>\n",
       "      <td>...</td>\n",
       "      <td>0</td>\n",
       "      <td>0</td>\n",
       "      <td>0</td>\n",
       "      <td>0</td>\n",
       "      <td>0</td>\n",
       "      <td>0</td>\n",
       "      <td>0</td>\n",
       "      <td>0</td>\n",
       "      <td>0</td>\n",
       "      <td>0</td>\n",
       "    </tr>\n",
       "  </tbody>\n",
       "</table>\n",
       "<p>5 rows × 786 columns</p>\n",
       "</div>"
      ],
      "text/plain": [
       "   Unnamed: 0  label  pixel0  pixel1  pixel2  pixel3  pixel4  pixel5  pixel6  \\\n",
       "0           0      1       0       0       0       0       0       0       0   \n",
       "1           1      0       0       0       0       0       0       0       0   \n",
       "2           2      1       0       0       0       0       0       0       0   \n",
       "3           3      4       0       0       0       0       0       0       0   \n",
       "4           4      0       0       0       0       0       0       0       0   \n",
       "\n",
       "   pixel7  ...  pixel774  pixel775  pixel776  pixel777  pixel778  pixel779  \\\n",
       "0       0  ...         0         0         0         0         0         0   \n",
       "1       0  ...         0         0         0         0         0         0   \n",
       "2       0  ...         0         0         0         0         0         0   \n",
       "3       0  ...         0         0         0         0         0         0   \n",
       "4       0  ...         0         0         0         0         0         0   \n",
       "\n",
       "   pixel780  pixel781  pixel782  pixel783  \n",
       "0         0         0         0         0  \n",
       "1         0         0         0         0  \n",
       "2         0         0         0         0  \n",
       "3         0         0         0         0  \n",
       "4         0         0         0         0  \n",
       "\n",
       "[5 rows x 786 columns]"
      ]
     },
     "execution_count": 4,
     "metadata": {},
     "output_type": "execute_result"
    }
   ],
   "source": [
    "data.head()"
   ]
  },
  {
   "cell_type": "code",
   "execution_count": 5,
   "id": "95f0423d",
   "metadata": {},
   "outputs": [
    {
     "name": "stdout",
     "output_type": "stream",
     "text": [
      "0        1\n",
      "1        0\n",
      "2        1\n",
      "3        4\n",
      "4        0\n",
      "        ..\n",
      "41995    0\n",
      "41996    1\n",
      "41997    7\n",
      "41998    6\n",
      "41999    9\n",
      "Name: label, Length: 42000, dtype: int64\n"
     ]
    }
   ],
   "source": [
    "print(data['label'])"
   ]
  },
  {
   "cell_type": "code",
   "execution_count": null,
   "id": "43be8d60",
   "metadata": {},
   "outputs": [],
   "source": [
    "print(data.iloc[:,0])"
   ]
  },
  {
   "cell_type": "code",
   "execution_count": null,
   "id": "9a2b4946",
   "metadata": {},
   "outputs": [],
   "source": [
    "print(data.columns[0])"
   ]
  },
  {
   "cell_type": "code",
   "execution_count": null,
   "id": "32daa901",
   "metadata": {},
   "outputs": [],
   "source": [
    "data = data.drop(data.columns[0], axis=1, inplace=True)"
   ]
  },
  {
   "cell_type": "code",
   "execution_count": null,
   "id": "4a8f7177",
   "metadata": {},
   "outputs": [],
   "source": [
    "data.head()"
   ]
  },
  {
   "cell_type": "code",
   "execution_count": 7,
   "id": "843e09e8",
   "metadata": {},
   "outputs": [],
   "source": [
    "data = data.sample(frac=1).reset_index()"
   ]
  },
  {
   "cell_type": "code",
   "execution_count": 8,
   "id": "08a018ed",
   "metadata": {},
   "outputs": [
    {
     "data": {
      "text/html": [
       "<div>\n",
       "<style scoped>\n",
       "    .dataframe tbody tr th:only-of-type {\n",
       "        vertical-align: middle;\n",
       "    }\n",
       "\n",
       "    .dataframe tbody tr th {\n",
       "        vertical-align: top;\n",
       "    }\n",
       "\n",
       "    .dataframe thead th {\n",
       "        text-align: right;\n",
       "    }\n",
       "</style>\n",
       "<table border=\"1\" class=\"dataframe\">\n",
       "  <thead>\n",
       "    <tr style=\"text-align: right;\">\n",
       "      <th></th>\n",
       "      <th>index</th>\n",
       "      <th>Unnamed: 0</th>\n",
       "      <th>label</th>\n",
       "      <th>pixel0</th>\n",
       "      <th>pixel1</th>\n",
       "      <th>pixel2</th>\n",
       "      <th>pixel3</th>\n",
       "      <th>pixel4</th>\n",
       "      <th>pixel5</th>\n",
       "      <th>pixel6</th>\n",
       "      <th>...</th>\n",
       "      <th>pixel774</th>\n",
       "      <th>pixel775</th>\n",
       "      <th>pixel776</th>\n",
       "      <th>pixel777</th>\n",
       "      <th>pixel778</th>\n",
       "      <th>pixel779</th>\n",
       "      <th>pixel780</th>\n",
       "      <th>pixel781</th>\n",
       "      <th>pixel782</th>\n",
       "      <th>pixel783</th>\n",
       "    </tr>\n",
       "  </thead>\n",
       "  <tbody>\n",
       "    <tr>\n",
       "      <th>0</th>\n",
       "      <td>17806</td>\n",
       "      <td>17806</td>\n",
       "      <td>2</td>\n",
       "      <td>0</td>\n",
       "      <td>0</td>\n",
       "      <td>0</td>\n",
       "      <td>0</td>\n",
       "      <td>0</td>\n",
       "      <td>0</td>\n",
       "      <td>0</td>\n",
       "      <td>...</td>\n",
       "      <td>0</td>\n",
       "      <td>0</td>\n",
       "      <td>0</td>\n",
       "      <td>0</td>\n",
       "      <td>0</td>\n",
       "      <td>0</td>\n",
       "      <td>0</td>\n",
       "      <td>0</td>\n",
       "      <td>0</td>\n",
       "      <td>0</td>\n",
       "    </tr>\n",
       "    <tr>\n",
       "      <th>1</th>\n",
       "      <td>28165</td>\n",
       "      <td>28165</td>\n",
       "      <td>0</td>\n",
       "      <td>0</td>\n",
       "      <td>0</td>\n",
       "      <td>0</td>\n",
       "      <td>0</td>\n",
       "      <td>0</td>\n",
       "      <td>0</td>\n",
       "      <td>0</td>\n",
       "      <td>...</td>\n",
       "      <td>0</td>\n",
       "      <td>0</td>\n",
       "      <td>0</td>\n",
       "      <td>0</td>\n",
       "      <td>0</td>\n",
       "      <td>0</td>\n",
       "      <td>0</td>\n",
       "      <td>0</td>\n",
       "      <td>0</td>\n",
       "      <td>0</td>\n",
       "    </tr>\n",
       "    <tr>\n",
       "      <th>2</th>\n",
       "      <td>34214</td>\n",
       "      <td>34214</td>\n",
       "      <td>7</td>\n",
       "      <td>0</td>\n",
       "      <td>0</td>\n",
       "      <td>0</td>\n",
       "      <td>0</td>\n",
       "      <td>0</td>\n",
       "      <td>0</td>\n",
       "      <td>0</td>\n",
       "      <td>...</td>\n",
       "      <td>0</td>\n",
       "      <td>0</td>\n",
       "      <td>0</td>\n",
       "      <td>0</td>\n",
       "      <td>0</td>\n",
       "      <td>0</td>\n",
       "      <td>0</td>\n",
       "      <td>0</td>\n",
       "      <td>0</td>\n",
       "      <td>0</td>\n",
       "    </tr>\n",
       "    <tr>\n",
       "      <th>3</th>\n",
       "      <td>33366</td>\n",
       "      <td>33366</td>\n",
       "      <td>2</td>\n",
       "      <td>0</td>\n",
       "      <td>0</td>\n",
       "      <td>0</td>\n",
       "      <td>0</td>\n",
       "      <td>0</td>\n",
       "      <td>0</td>\n",
       "      <td>0</td>\n",
       "      <td>...</td>\n",
       "      <td>0</td>\n",
       "      <td>0</td>\n",
       "      <td>0</td>\n",
       "      <td>0</td>\n",
       "      <td>0</td>\n",
       "      <td>0</td>\n",
       "      <td>0</td>\n",
       "      <td>0</td>\n",
       "      <td>0</td>\n",
       "      <td>0</td>\n",
       "    </tr>\n",
       "    <tr>\n",
       "      <th>4</th>\n",
       "      <td>22394</td>\n",
       "      <td>22394</td>\n",
       "      <td>8</td>\n",
       "      <td>0</td>\n",
       "      <td>0</td>\n",
       "      <td>0</td>\n",
       "      <td>0</td>\n",
       "      <td>0</td>\n",
       "      <td>0</td>\n",
       "      <td>0</td>\n",
       "      <td>...</td>\n",
       "      <td>0</td>\n",
       "      <td>0</td>\n",
       "      <td>0</td>\n",
       "      <td>0</td>\n",
       "      <td>0</td>\n",
       "      <td>0</td>\n",
       "      <td>0</td>\n",
       "      <td>0</td>\n",
       "      <td>0</td>\n",
       "      <td>0</td>\n",
       "    </tr>\n",
       "  </tbody>\n",
       "</table>\n",
       "<p>5 rows × 787 columns</p>\n",
       "</div>"
      ],
      "text/plain": [
       "   index  Unnamed: 0  label  pixel0  pixel1  pixel2  pixel3  pixel4  pixel5  \\\n",
       "0  17806       17806      2       0       0       0       0       0       0   \n",
       "1  28165       28165      0       0       0       0       0       0       0   \n",
       "2  34214       34214      7       0       0       0       0       0       0   \n",
       "3  33366       33366      2       0       0       0       0       0       0   \n",
       "4  22394       22394      8       0       0       0       0       0       0   \n",
       "\n",
       "   pixel6  ...  pixel774  pixel775  pixel776  pixel777  pixel778  pixel779  \\\n",
       "0       0  ...         0         0         0         0         0         0   \n",
       "1       0  ...         0         0         0         0         0         0   \n",
       "2       0  ...         0         0         0         0         0         0   \n",
       "3       0  ...         0         0         0         0         0         0   \n",
       "4       0  ...         0         0         0         0         0         0   \n",
       "\n",
       "   pixel780  pixel781  pixel782  pixel783  \n",
       "0         0         0         0         0  \n",
       "1         0         0         0         0  \n",
       "2         0         0         0         0  \n",
       "3         0         0         0         0  \n",
       "4         0         0         0         0  \n",
       "\n",
       "[5 rows x 787 columns]"
      ]
     },
     "execution_count": 8,
     "metadata": {},
     "output_type": "execute_result"
    }
   ],
   "source": [
    "data.head()"
   ]
  },
  {
   "cell_type": "code",
   "execution_count": 19,
   "id": "9cbc2dd6",
   "metadata": {},
   "outputs": [],
   "source": [
    "data_dev = data.iloc[1:1000,1:786]"
   ]
  },
  {
   "cell_type": "code",
   "execution_count": 20,
   "id": "a559d6ce",
   "metadata": {},
   "outputs": [
    {
     "data": {
      "text/html": [
       "<div>\n",
       "<style scoped>\n",
       "    .dataframe tbody tr th:only-of-type {\n",
       "        vertical-align: middle;\n",
       "    }\n",
       "\n",
       "    .dataframe tbody tr th {\n",
       "        vertical-align: top;\n",
       "    }\n",
       "\n",
       "    .dataframe thead th {\n",
       "        text-align: right;\n",
       "    }\n",
       "</style>\n",
       "<table border=\"1\" class=\"dataframe\">\n",
       "  <thead>\n",
       "    <tr style=\"text-align: right;\">\n",
       "      <th></th>\n",
       "      <th>Unnamed: 0</th>\n",
       "      <th>label</th>\n",
       "      <th>pixel0</th>\n",
       "      <th>pixel1</th>\n",
       "      <th>pixel2</th>\n",
       "      <th>pixel3</th>\n",
       "      <th>pixel4</th>\n",
       "      <th>pixel5</th>\n",
       "      <th>pixel6</th>\n",
       "      <th>pixel7</th>\n",
       "      <th>...</th>\n",
       "      <th>pixel773</th>\n",
       "      <th>pixel774</th>\n",
       "      <th>pixel775</th>\n",
       "      <th>pixel776</th>\n",
       "      <th>pixel777</th>\n",
       "      <th>pixel778</th>\n",
       "      <th>pixel779</th>\n",
       "      <th>pixel780</th>\n",
       "      <th>pixel781</th>\n",
       "      <th>pixel782</th>\n",
       "    </tr>\n",
       "  </thead>\n",
       "  <tbody>\n",
       "    <tr>\n",
       "      <th>1</th>\n",
       "      <td>28165</td>\n",
       "      <td>0</td>\n",
       "      <td>0</td>\n",
       "      <td>0</td>\n",
       "      <td>0</td>\n",
       "      <td>0</td>\n",
       "      <td>0</td>\n",
       "      <td>0</td>\n",
       "      <td>0</td>\n",
       "      <td>0</td>\n",
       "      <td>...</td>\n",
       "      <td>0</td>\n",
       "      <td>0</td>\n",
       "      <td>0</td>\n",
       "      <td>0</td>\n",
       "      <td>0</td>\n",
       "      <td>0</td>\n",
       "      <td>0</td>\n",
       "      <td>0</td>\n",
       "      <td>0</td>\n",
       "      <td>0</td>\n",
       "    </tr>\n",
       "    <tr>\n",
       "      <th>2</th>\n",
       "      <td>34214</td>\n",
       "      <td>7</td>\n",
       "      <td>0</td>\n",
       "      <td>0</td>\n",
       "      <td>0</td>\n",
       "      <td>0</td>\n",
       "      <td>0</td>\n",
       "      <td>0</td>\n",
       "      <td>0</td>\n",
       "      <td>0</td>\n",
       "      <td>...</td>\n",
       "      <td>0</td>\n",
       "      <td>0</td>\n",
       "      <td>0</td>\n",
       "      <td>0</td>\n",
       "      <td>0</td>\n",
       "      <td>0</td>\n",
       "      <td>0</td>\n",
       "      <td>0</td>\n",
       "      <td>0</td>\n",
       "      <td>0</td>\n",
       "    </tr>\n",
       "    <tr>\n",
       "      <th>3</th>\n",
       "      <td>33366</td>\n",
       "      <td>2</td>\n",
       "      <td>0</td>\n",
       "      <td>0</td>\n",
       "      <td>0</td>\n",
       "      <td>0</td>\n",
       "      <td>0</td>\n",
       "      <td>0</td>\n",
       "      <td>0</td>\n",
       "      <td>0</td>\n",
       "      <td>...</td>\n",
       "      <td>0</td>\n",
       "      <td>0</td>\n",
       "      <td>0</td>\n",
       "      <td>0</td>\n",
       "      <td>0</td>\n",
       "      <td>0</td>\n",
       "      <td>0</td>\n",
       "      <td>0</td>\n",
       "      <td>0</td>\n",
       "      <td>0</td>\n",
       "    </tr>\n",
       "    <tr>\n",
       "      <th>4</th>\n",
       "      <td>22394</td>\n",
       "      <td>8</td>\n",
       "      <td>0</td>\n",
       "      <td>0</td>\n",
       "      <td>0</td>\n",
       "      <td>0</td>\n",
       "      <td>0</td>\n",
       "      <td>0</td>\n",
       "      <td>0</td>\n",
       "      <td>0</td>\n",
       "      <td>...</td>\n",
       "      <td>0</td>\n",
       "      <td>0</td>\n",
       "      <td>0</td>\n",
       "      <td>0</td>\n",
       "      <td>0</td>\n",
       "      <td>0</td>\n",
       "      <td>0</td>\n",
       "      <td>0</td>\n",
       "      <td>0</td>\n",
       "      <td>0</td>\n",
       "    </tr>\n",
       "    <tr>\n",
       "      <th>5</th>\n",
       "      <td>11838</td>\n",
       "      <td>1</td>\n",
       "      <td>0</td>\n",
       "      <td>0</td>\n",
       "      <td>0</td>\n",
       "      <td>0</td>\n",
       "      <td>0</td>\n",
       "      <td>0</td>\n",
       "      <td>0</td>\n",
       "      <td>0</td>\n",
       "      <td>...</td>\n",
       "      <td>0</td>\n",
       "      <td>0</td>\n",
       "      <td>0</td>\n",
       "      <td>0</td>\n",
       "      <td>0</td>\n",
       "      <td>0</td>\n",
       "      <td>0</td>\n",
       "      <td>0</td>\n",
       "      <td>0</td>\n",
       "      <td>0</td>\n",
       "    </tr>\n",
       "  </tbody>\n",
       "</table>\n",
       "<p>5 rows × 785 columns</p>\n",
       "</div>"
      ],
      "text/plain": [
       "   Unnamed: 0  label  pixel0  pixel1  pixel2  pixel3  pixel4  pixel5  pixel6  \\\n",
       "1       28165      0       0       0       0       0       0       0       0   \n",
       "2       34214      7       0       0       0       0       0       0       0   \n",
       "3       33366      2       0       0       0       0       0       0       0   \n",
       "4       22394      8       0       0       0       0       0       0       0   \n",
       "5       11838      1       0       0       0       0       0       0       0   \n",
       "\n",
       "   pixel7  ...  pixel773  pixel774  pixel775  pixel776  pixel777  pixel778  \\\n",
       "1       0  ...         0         0         0         0         0         0   \n",
       "2       0  ...         0         0         0         0         0         0   \n",
       "3       0  ...         0         0         0         0         0         0   \n",
       "4       0  ...         0         0         0         0         0         0   \n",
       "5       0  ...         0         0         0         0         0         0   \n",
       "\n",
       "   pixel779  pixel780  pixel781  pixel782  \n",
       "1         0         0         0         0  \n",
       "2         0         0         0         0  \n",
       "3         0         0         0         0  \n",
       "4         0         0         0         0  \n",
       "5         0         0         0         0  \n",
       "\n",
       "[5 rows x 785 columns]"
      ]
     },
     "execution_count": 20,
     "metadata": {},
     "output_type": "execute_result"
    }
   ],
   "source": [
    "data_dev.head()"
   ]
  },
  {
   "cell_type": "code",
   "execution_count": 21,
   "id": "41ce6911",
   "metadata": {},
   "outputs": [],
   "source": [
    "Y_dev = data_dev.iloc[:,1]"
   ]
  },
  {
   "cell_type": "code",
   "execution_count": 22,
   "id": "110026a3",
   "metadata": {},
   "outputs": [
    {
     "name": "stdout",
     "output_type": "stream",
     "text": [
      "1      0\n",
      "2      7\n",
      "3      2\n",
      "4      8\n",
      "5      1\n",
      "      ..\n",
      "995    8\n",
      "996    9\n",
      "997    6\n",
      "998    6\n",
      "999    0\n",
      "Name: label, Length: 999, dtype: int64\n"
     ]
    }
   ],
   "source": [
    "print(Y_dev)"
   ]
  },
  {
   "cell_type": "code",
   "execution_count": 23,
   "id": "5a0aed9c",
   "metadata": {},
   "outputs": [],
   "source": [
    "X_dev = data_dev.iloc[:,1:786]"
   ]
  },
  {
   "cell_type": "code",
   "execution_count": 24,
   "id": "f75dc3cd",
   "metadata": {},
   "outputs": [],
   "source": [
    "X_dev = X_dev/255"
   ]
  },
  {
   "cell_type": "code",
   "execution_count": 25,
   "id": "e30c45c1",
   "metadata": {},
   "outputs": [],
   "source": [
    "Y_dev = np.array(Y_dev.transpose())"
   ]
  },
  {
   "cell_type": "code",
   "execution_count": 26,
   "id": "8395ab5c",
   "metadata": {},
   "outputs": [
    {
     "name": "stdout",
     "output_type": "stream",
     "text": [
      "[0 7 2 8 1 6 6 9 1 1 1 9 2 0 2 1 1 3 3 7 6 1 5 9 2 9 2 9 3 4 4 7 7 8 2 3 9\n",
      " 8 4 7 2 8 0 4 9 8 7 8 0 9 7 2 2 6 5 3 0 5 1 5 7 3 5 8 3 1 0 2 0 0 3 0 7 0\n",
      " 9 9 8 3 0 4 4 9 3 2 3 2 1 4 6 1 2 0 8 6 8 6 7 0 7 2 5 1 0 2 9 7 5 6 3 5 6\n",
      " 5 5 4 5 3 6 6 8 6 2 2 0 6 0 5 8 9 5 1 8 5 6 9 2 0 5 4 8 4 1 1 5 5 2 2 3 0\n",
      " 9 9 4 0 3 0 3 2 2 8 6 2 9 3 4 1 3 5 2 5 9 5 0 7 8 3 7 5 3 1 5 1 9 6 8 6 8\n",
      " 9 1 1 2 8 4 0 6 2 1 8 6 8 2 2 4 4 1 2 0 1 1 5 0 5 4 9 9 1 6 0 2 3 4 2 6 0\n",
      " 0 8 7 4 6 0 0 3 2 0 3 0 5 7 5 7 0 7 0 8 0 2 5 9 7 8 8 5 3 4 9 4 8 1 5 7 5\n",
      " 2 1 4 1 3 8 9 1 5 1 3 3 7 8 9 2 3 7 3 1 4 6 0 2 5 8 3 7 9 1 0 0 6 1 1 8 6\n",
      " 3 0 7 9 9 2 1 3 4 7 6 2 3 2 8 5 3 1 7 3 5 7 2 8 4 2 3 2 9 7 3 2 2 7 4 4 9\n",
      " 5 8 5 6 0 4 6 8 2 3 7 8 6 3 7 0 3 6 4 0 8 8 4 3 0 7 0 9 4 1 8 0 0 7 8 8 7\n",
      " 2 2 8 9 7 0 9 5 6 6 3 9 8 3 9 5 7 9 7 4 5 7 9 0 9 8 6 9 1 3 8 4 9 2 0 7 3\n",
      " 7 9 2 6 5 2 1 7 9 0 9 3 7 9 5 3 7 0 6 0 9 0 7 5 9 5 0 3 5 8 0 0 3 7 1 2 6\n",
      " 6 2 7 7 2 1 9 1 3 7 1 7 1 8 7 6 3 4 1 6 2 1 6 9 5 9 2 7 3 0 7 1 7 4 9 7 3\n",
      " 1 3 5 1 4 0 8 3 9 6 1 3 1 9 7 7 6 0 7 8 1 2 5 6 1 6 5 1 7 5 1 0 1 2 0 2 0\n",
      " 3 6 8 2 0 3 5 0 3 8 0 6 9 7 1 9 9 1 7 6 4 3 2 3 7 0 2 8 6 1 1 5 9 6 0 3 4\n",
      " 8 9 2 3 8 7 4 3 7 6 7 8 1 4 7 7 6 7 1 4 8 8 3 3 5 0 0 3 4 7 7 6 6 0 0 5 3\n",
      " 1 8 1 3 8 9 4 1 3 1 5 6 2 4 7 5 3 3 9 1 4 3 7 8 6 5 1 9 9 4 1 8 6 9 4 6 1\n",
      " 0 8 1 1 0 6 1 5 1 5 4 7 0 1 4 3 6 2 0 1 7 5 3 2 4 0 9 5 8 9 0 8 8 6 1 2 1\n",
      " 3 4 4 2 4 8 0 4 1 4 9 2 2 1 6 0 9 8 2 2 8 7 1 5 2 6 6 7 3 5 4 9 3 3 5 6 5\n",
      " 0 8 2 4 9 1 4 3 5 7 6 4 9 2 9 6 6 4 4 4 3 7 2 9 1 3 2 8 4 2 2 9 5 5 4 9 6\n",
      " 5 4 5 7 6 7 7 6 0 0 4 5 1 4 8 3 5 1 0 7 4 7 6 7 1 7 5 7 0 2 6 9 3 4 9 1 9\n",
      " 9 6 7 5 3 6 5 1 1 7 4 3 0 1 9 7 1 1 9 1 6 1 8 4 0 1 6 2 8 9 9 9 4 7 5 9 6\n",
      " 8 7 8 8 9 2 0 3 9 1 7 5 2 7 9 5 6 1 9 6 1 0 6 1 9 0 5 3 1 7 0 8 2 5 2 7 4\n",
      " 4 9 9 6 6 0 1 7 4 9 8 3 5 4 1 2 5 5 0 4 4 7 5 7 8 2 1 8 4 1 8 0 1 5 1 1 3\n",
      " 3 6 3 8 2 2 8 4 1 0 6 7 2 3 2 6 6 7 5 1 0 6 7 7 4 2 2 5 9 5 3 0 4 1 7 3 6\n",
      " 8 2 9 6 2 1 8 0 5 9 5 9 1 8 0 4 2 1 7 8 5 4 4 1 1 0 1 7 9 7 3 9 7 7 1 9 0\n",
      " 5 5 1 7 4 5 1 1 6 0 9 3 0 6 9 1 2 7 8 0 4 5 3 4 5 0 0 3 3 5 6 4 8 9 6 6 0]\n"
     ]
    }
   ],
   "source": [
    "print(Y_dev)"
   ]
  },
  {
   "cell_type": "code",
   "execution_count": 27,
   "id": "0c69b4c7",
   "metadata": {},
   "outputs": [],
   "source": [
    "X_dev = np.array(X_dev.transpose())"
   ]
  },
  {
   "cell_type": "code",
   "execution_count": 28,
   "id": "7da5b0f5",
   "metadata": {},
   "outputs": [],
   "source": [
    "data_train = data.iloc[1001:42000,1:786]"
   ]
  },
  {
   "cell_type": "code",
   "execution_count": 29,
   "id": "a6645ec4",
   "metadata": {},
   "outputs": [],
   "source": [
    "Y_train = data_train.iloc[:,1]"
   ]
  },
  {
   "cell_type": "code",
   "execution_count": 30,
   "id": "42c6d099",
   "metadata": {},
   "outputs": [
    {
     "data": {
      "text/plain": [
       "1001    5\n",
       "1002    0\n",
       "1003    4\n",
       "1004    7\n",
       "1005    1\n",
       "Name: label, dtype: int64"
      ]
     },
     "execution_count": 30,
     "metadata": {},
     "output_type": "execute_result"
    }
   ],
   "source": [
    "Y_train.head()"
   ]
  },
  {
   "cell_type": "code",
   "execution_count": 31,
   "id": "459d6024",
   "metadata": {},
   "outputs": [],
   "source": [
    "Y_train = np.array(Y_train.transpose())"
   ]
  },
  {
   "cell_type": "code",
   "execution_count": 48,
   "id": "64ce71ce",
   "metadata": {},
   "outputs": [],
   "source": [
    "X_train = data_train.iloc[:,2:787]"
   ]
  },
  {
   "cell_type": "code",
   "execution_count": 49,
   "id": "dde6fe7b",
   "metadata": {},
   "outputs": [],
   "source": [
    "X_train = X_train/255"
   ]
  },
  {
   "cell_type": "code",
   "execution_count": 50,
   "id": "b5f34939",
   "metadata": {},
   "outputs": [],
   "source": [
    "X_train = np.array(X_train.transpose())"
   ]
  },
  {
   "cell_type": "code",
   "execution_count": 51,
   "id": "0123343e",
   "metadata": {},
   "outputs": [
    {
     "name": "stdout",
     "output_type": "stream",
     "text": [
      "[[0. 0. 0. ... 0. 0. 0.]\n",
      " [0. 0. 0. ... 0. 0. 0.]\n",
      " [0. 0. 0. ... 0. 0. 0.]\n",
      " ...\n",
      " [0. 0. 0. ... 0. 0. 0.]\n",
      " [0. 0. 0. ... 0. 0. 0.]\n",
      " [0. 0. 0. ... 0. 0. 0.]]\n"
     ]
    }
   ],
   "source": [
    "print(X_train)"
   ]
  },
  {
   "cell_type": "code",
   "execution_count": 38,
   "id": "e48fca55",
   "metadata": {},
   "outputs": [
    {
     "data": {
      "text/plain": [
       "array([5, 0, 4, ..., 9, 1, 9], dtype=int64)"
      ]
     },
     "execution_count": 38,
     "metadata": {},
     "output_type": "execute_result"
    }
   ],
   "source": [
    "Y_train"
   ]
  },
  {
   "cell_type": "code",
   "execution_count": 56,
   "id": "8e52c48b",
   "metadata": {},
   "outputs": [],
   "source": [
    "_, m_train = X_train.shape"
   ]
  },
  {
   "cell_type": "code",
   "execution_count": 58,
   "id": "0f1dd69a",
   "metadata": {},
   "outputs": [
    {
     "data": {
      "text/plain": [
       "40999"
      ]
     },
     "execution_count": 58,
     "metadata": {},
     "output_type": "execute_result"
    }
   ],
   "source": [
    "m_train"
   ]
  },
  {
   "cell_type": "code",
   "execution_count": 57,
   "id": "43600efc",
   "metadata": {},
   "outputs": [
    {
     "data": {
      "text/plain": [
       "784"
      ]
     },
     "execution_count": 57,
     "metadata": {},
     "output_type": "execute_result"
    }
   ],
   "source": [
    "_"
   ]
  },
  {
   "cell_type": "code",
   "execution_count": 55,
   "id": "a9a04148",
   "metadata": {},
   "outputs": [],
   "source": [
    "X_train = np.append(X_train, np.zeros((1,40999)), axis=0)"
   ]
  },
  {
   "cell_type": "code",
   "execution_count": 59,
   "id": "177ee6ce",
   "metadata": {},
   "outputs": [
    {
     "data": {
      "text/plain": [
       "(783, 999)"
      ]
     },
     "execution_count": 59,
     "metadata": {},
     "output_type": "execute_result"
    }
   ],
   "source": [
    "X_dev.shape"
   ]
  },
  {
   "cell_type": "code",
   "execution_count": 60,
   "id": "a3b641ed",
   "metadata": {},
   "outputs": [],
   "source": [
    "X_dev = np.append(X_dev, np.zeros((1,999)), axis=0)"
   ]
  },
  {
   "cell_type": "code",
   "execution_count": 61,
   "id": "370be204",
   "metadata": {},
   "outputs": [
    {
     "data": {
      "text/plain": [
       "(784, 999)"
      ]
     },
     "execution_count": 61,
     "metadata": {},
     "output_type": "execute_result"
    }
   ],
   "source": [
    "X_dev.shape"
   ]
  },
  {
   "cell_type": "code",
   "execution_count": 62,
   "id": "02b4d6cc",
   "metadata": {},
   "outputs": [],
   "source": [
    "def init_params():\n",
    "    W1 = np.random.rand(10, 784) - 0.5\n",
    "    b1 = np.random.rand(10,1) - 0.5\n",
    "    W2 = np.random.rand(10,10) - 0.5\n",
    "    b2 = np.random.rand(10,1) - 0.5\n",
    "    return W1, b1, W2, b2\n",
    "\n",
    "def ReLU(Z):\n",
    "    return np.maximum(Z, 0)\n",
    "\n",
    "def softmax(Z):\n",
    "    A = np.exp(Z) / sum(np.exp(Z))\n",
    "    return A\n",
    "\n",
    "def forward_prop(W1, b1, W2, b2, X):\n",
    "    Z1 = W1.dot(X) + b1\n",
    "    A1 = ReLU(Z1)\n",
    "    Z2 = W2.dot(A1) + b2\n",
    "    A2 = softmax(Z2)\n",
    "    return Z1, A1, Z2, A2\n",
    "\n",
    "def ReLU_deriv(Z):\n",
    "    return Z > 0\n",
    "\n",
    "def one_hot(Y):\n",
    "    one_hot_Y = np.zeros((Y.size, Y.max() + 1))\n",
    "    one_hot_Y[np.arange(Y.size), Y] = 1\n",
    "    one_hot_Y = one_hot_Y.T\n",
    "    return one_hot_Y\n",
    "\n",
    "def backward_prop(Z1, A1, Z2, A2, W1, W2, X, Y):\n",
    "    one_hot_Y = one_hot(Y)\n",
    "    dZ2 = A2 - one_hot(Y)\n",
    "    dW2 = 1 / m * dZ2.dot(A1.T)\n",
    "    db2 = 1 / m * np.sum(dZ2)\n",
    "    dZ1 = W2.T.dot(dZ2) * ReLU_deriv(Z1)\n",
    "    dW1 = 1 / m * dZ1.dot(X.T)\n",
    "    db1 = 1 / m * np.sum(dZ1)\n",
    "    return dW1, db1, dW2, db2\n",
    "\n",
    "def update_params(W1, b1, W2, b2, dW1, db1, dW2, db2, alpha):\n",
    "    W1 = W1 - alpha * dW1\n",
    "    b1 = b1 - alpha * db1\n",
    "    W2 = W2 - alpha * dW2\n",
    "    b2 = b2 - alpha * db2\n",
    "    return W1, b1, W2, b2"
   ]
  },
  {
   "cell_type": "code",
   "execution_count": 85,
   "id": "e6decf02",
   "metadata": {},
   "outputs": [],
   "source": [
    "def get_predictions(A2):\n",
    "    return np.argmax(A2, 0)\n",
    "\n",
    "def get_accuracy(predictions, Y):\n",
    "    print(predictions, Y)\n",
    "    return np.sum(predictions == Y) / Y.size\n",
    "\n",
    "def gradient_descent(X, Y, alpha, iterations):\n",
    "    W1, b1, W2, b2 = init_params()\n",
    "    for i in range(iterations):\n",
    "        Z1, A1, Z2, A2 = forward_prop(W1, b1, W2, b2, X)\n",
    "        dW1, db1, dW2, db2 = backward_prop(Z1, A1, Z2, A2, W1, W2, X, Y)\n",
    "        W1, b1, W2, b2 = update_params(W1, b1, W2, b2, dW1, db1, dW2, db2, alpha)\n",
    "        if i % 10 == 0:\n",
    "            print(\"Iteration:\", i)\n",
    "            predictions = get_predictions(A2)\n",
    "            print(get_accuracy(predictions, Y))\n",
    "    return W1, b1, W2, b2"
   ]
  },
  {
   "cell_type": "code",
   "execution_count": 87,
   "id": "4dc8c279",
   "metadata": {},
   "outputs": [
    {
     "name": "stdout",
     "output_type": "stream",
     "text": [
      "Iteration: 0\n",
      "[4 4 4 ... 1 5 1] [5 0 4 ... 9 1 9]\n",
      "0.10212444205956243\n",
      "Iteration: 10\n",
      "[0 4 0 ... 7 7 0] [5 0 4 ... 9 1 9]\n",
      "0.14714993048610941\n",
      "Iteration: 20\n",
      "[0 4 0 ... 7 0 0] [5 0 4 ... 9 1 9]\n",
      "0.19202907387985071\n",
      "Iteration: 30\n",
      "[0 4 0 ... 7 0 0] [5 0 4 ... 9 1 9]\n",
      "0.2564452791531501\n",
      "Iteration: 40\n",
      "[0 4 0 ... 7 1 0] [5 0 4 ... 9 1 9]\n",
      "0.3130808068489475\n",
      "Iteration: 50\n",
      "[0 0 0 ... 7 1 0] [5 0 4 ... 9 1 9]\n",
      "0.3558379472670065\n",
      "Iteration: 60\n",
      "[3 0 0 ... 7 1 0] [5 0 4 ... 9 1 9]\n",
      "0.3970828556794068\n",
      "Iteration: 70\n",
      "[3 0 3 ... 7 1 9] [5 0 4 ... 9 1 9]\n",
      "0.4432059318519964\n",
      "Iteration: 80\n",
      "[3 0 3 ... 7 1 9] [5 0 4 ... 9 1 9]\n",
      "0.49030464157662385\n",
      "Iteration: 90\n",
      "[8 0 8 ... 7 1 9] [5 0 4 ... 9 1 9]\n",
      "0.5289153393985219\n",
      "Iteration: 100\n",
      "[9 0 4 ... 9 1 9] [5 0 4 ... 9 1 9]\n",
      "0.5611112466157712\n",
      "Iteration: 110\n",
      "[9 0 4 ... 9 1 9] [5 0 4 ... 9 1 9]\n",
      "0.5892094929144613\n",
      "Iteration: 120\n",
      "[9 0 4 ... 9 1 9] [5 0 4 ... 9 1 9]\n",
      "0.6136978950706115\n",
      "Iteration: 130\n",
      "[9 0 4 ... 9 1 9] [5 0 4 ... 9 1 9]\n",
      "0.6340154637917998\n",
      "Iteration: 140\n",
      "[9 0 4 ... 9 1 9] [5 0 4 ... 9 1 9]\n",
      "0.6521622478597039\n",
      "Iteration: 150\n",
      "[8 0 4 ... 9 1 9] [5 0 4 ... 9 1 9]\n",
      "0.6672357862386887\n",
      "Iteration: 160\n",
      "[8 0 4 ... 9 1 9] [5 0 4 ... 9 1 9]\n",
      "0.6815532086148443\n",
      "Iteration: 170\n",
      "[8 0 4 ... 9 1 9] [5 0 4 ... 9 1 9]\n",
      "0.6931388570452938\n",
      "Iteration: 180\n",
      "[8 0 4 ... 9 1 9] [5 0 4 ... 9 1 9]\n",
      "0.7035781360520988\n",
      "Iteration: 190\n",
      "[8 0 4 ... 9 1 9] [5 0 4 ... 9 1 9]\n",
      "0.7145540135125247\n",
      "Iteration: 200\n",
      "[8 0 4 ... 9 1 9] [5 0 4 ... 9 1 9]\n",
      "0.7235542330300739\n",
      "Iteration: 210\n",
      "[8 0 4 ... 9 1 9] [5 0 4 ... 9 1 9]\n",
      "0.7321885899656089\n",
      "Iteration: 220\n",
      "[8 0 4 ... 9 1 9] [5 0 4 ... 9 1 9]\n",
      "0.7393838874118881\n",
      "Iteration: 230\n",
      "[8 0 4 ... 9 1 9] [5 0 4 ... 9 1 9]\n",
      "0.7470182199565844\n",
      "Iteration: 240\n",
      "[8 0 4 ... 9 1 9] [5 0 4 ... 9 1 9]\n",
      "0.7532378838508257\n",
      "Iteration: 250\n",
      "[8 0 4 ... 9 1 9] [5 0 4 ... 9 1 9]\n",
      "0.7588233859362423\n",
      "Iteration: 260\n",
      "[8 0 4 ... 9 1 9] [5 0 4 ... 9 1 9]\n",
      "0.7633600819532184\n",
      "Iteration: 270\n",
      "[8 0 4 ... 9 1 9] [5 0 4 ... 9 1 9]\n",
      "0.7682626405522086\n",
      "Iteration: 280\n",
      "[8 0 4 ... 9 1 9] [5 0 4 ... 9 1 9]\n",
      "0.7734091075392082\n",
      "Iteration: 290\n",
      "[8 0 4 ... 9 1 9] [5 0 4 ... 9 1 9]\n",
      "0.778067757750189\n",
      "Iteration: 300\n",
      "[8 0 4 ... 9 1 9] [5 0 4 ... 9 1 9]\n",
      "0.782189809507549\n",
      "Iteration: 310\n",
      "[8 0 4 ... 9 1 9] [5 0 4 ... 9 1 9]\n",
      "0.7863606429425108\n",
      "Iteration: 320\n",
      "[8 0 4 ... 9 1 9] [5 0 4 ... 9 1 9]\n",
      "0.7902631771506622\n",
      "Iteration: 330\n",
      "[8 0 4 ... 9 1 9] [5 0 4 ... 9 1 9]\n",
      "0.7941413205200126\n",
      "Iteration: 340\n",
      "[8 0 4 ... 9 1 9] [5 0 4 ... 9 1 9]\n",
      "0.7975316471133442\n",
      "Iteration: 350\n",
      "[8 0 4 ... 9 1 9] [5 0 4 ... 9 1 9]\n",
      "0.8009707553842776\n",
      "Iteration: 360\n",
      "[8 0 4 ... 9 1 9] [5 0 4 ... 9 1 9]\n",
      "0.8042391277836045\n",
      "Iteration: 370\n",
      "[8 0 4 ... 9 1 9] [5 0 4 ... 9 1 9]\n",
      "0.8076782360545379\n",
      "Iteration: 380\n",
      "[8 0 4 ... 9 1 9] [5 0 4 ... 9 1 9]\n",
      "0.8112392985194761\n",
      "Iteration: 390\n",
      "[8 0 4 ... 9 1 9] [5 0 4 ... 9 1 9]\n",
      "0.8151174418888265\n",
      "Iteration: 400\n",
      "[8 0 4 ... 9 1 9] [5 0 4 ... 9 1 9]\n",
      "0.8183858142881534\n",
      "Iteration: 410\n",
      "[8 0 4 ... 9 1 9] [5 0 4 ... 9 1 9]\n",
      "0.8210444157174566\n",
      "Iteration: 420\n",
      "[8 0 4 ... 9 1 9] [5 0 4 ... 9 1 9]\n",
      "0.8238249713407644\n",
      "Iteration: 430\n",
      "[8 0 4 ... 9 1 9] [5 0 4 ... 9 1 9]\n",
      "0.8263616185760628\n",
      "Iteration: 440\n",
      "[8 0 4 ... 9 1 9] [5 0 4 ... 9 1 9]\n",
      "0.829434864264982\n",
      "Iteration: 450\n",
      "[8 0 4 ... 9 1 9] [5 0 4 ... 9 1 9]\n",
      "0.8309958779482426\n",
      "Iteration: 460\n",
      "[8 0 4 ... 9 1 9] [5 0 4 ... 9 1 9]\n",
      "0.8332642259567307\n",
      "Iteration: 470\n",
      "[8 0 4 ... 9 1 9] [5 0 4 ... 9 1 9]\n",
      "0.8358008731920291\n",
      "Iteration: 480\n",
      "[8 0 4 ... 9 1 9] [5 0 4 ... 9 1 9]\n",
      "0.8376057952632991\n",
      "Iteration: 490\n",
      "[5 0 4 ... 9 1 9] [5 0 4 ... 9 1 9]\n",
      "0.8396546257225787\n"
     ]
    }
   ],
   "source": [
    "m = 40999\n",
    "W1, b1, W2, b2 = gradient_descent(X_train, Y_train, 0.10, 500)"
   ]
  },
  {
   "cell_type": "code",
   "execution_count": 93,
   "id": "d53655de",
   "metadata": {},
   "outputs": [],
   "source": [
    "def make_predictions(X, W1, b1, W2, b2):\n",
    "    _, _, _, A2 = forward_prop(W1, b1, W2, b2, X)\n",
    "    predictions = get_predictions(A2)\n",
    "    return predictions\n",
    "\n",
    "def test_prediction(index, W1, b1, W2, b2):\n",
    "    current_image = X_train[:, index, None]\n",
    "    prediction = make_predictions(X_train[:, index, None], W1, b1, W2, b2)\n",
    "    label = Y_train[index]\n",
    "    print(\"Prediction: \", prediction)\n",
    "    print(\"Label: \", label)\n",
    "    \n",
    "    current_image = current_image.reshape((28,28))* 255\n",
    "    plt.gray()\n",
    "    plt.imshow(current_image, interpolation='nearest')\n",
    "    plt.show()"
   ]
  },
  {
   "cell_type": "code",
   "execution_count": 100,
   "id": "04b15152",
   "metadata": {},
   "outputs": [
    {
     "name": "stdout",
     "output_type": "stream",
     "text": [
      "Prediction:  [1]\n",
      "Label:  6\n"
     ]
    },
    {
     "data": {
      "image/png": "[encoded data removed]",
      "text/plain": [
       "<Figure size 640x480 with 1 Axes>"
      ]
     },
     "metadata": {},
     "output_type": "display_data"
    }
   ],
   "source": [
    "test_prediction(1409, W1, b1, W2, b2)"
   ]
  },
  {
   "cell_type": "code",
   "execution_count": 111,
   "id": "5aafd9bb",
   "metadata": {},
   "outputs": [
    {
     "data": {
      "text/plain": [
       "(array([0, 1, 2, 3]), [1, 0, 0, 0])"
      ]
     },
     "execution_count": 111,
     "metadata": {},
     "output_type": "execute_result"
    }
   ],
   "source": [
    "ab =  [1,0,0,0]\n",
    "np.arange(4), ab"
   ]
  },
  {
   "cell_type": "code",
   "execution_count": 108,
   "id": "c682ed48",
   "metadata": {},
   "outputs": [],
   "source": [
    "ab = np.array(ab)\n",
    "ab = np.zeros(ab.size, ab.max()+1)"
   ]
  },
  {
   "cell_type": "code",
   "execution_count": 112,
   "id": "1ae21312",
   "metadata": {},
   "outputs": [
    {
     "data": {
      "text/plain": [
       "[1, 0, 0, 0]"
      ]
     },
     "execution_count": 112,
     "metadata": {},
     "output_type": "execute_result"
    }
   ],
   "source": [
    "ab"
   ]
  },
  {
   "cell_type": "code",
   "execution_count": 114,
   "id": "6c939fda",
   "metadata": {},
   "outputs": [],
   "source": [
    "ab = np.array(ab)"
   ]
  },
  {
   "cell_type": "code",
   "execution_count": 124,
   "id": "f084c6f1",
   "metadata": {},
   "outputs": [],
   "source": [
    "hot = np.zeros((4, ab.max()+1))"
   ]
  },
  {
   "cell_type": "code",
   "execution_count": 135,
   "id": "852bb677",
   "metadata": {},
   "outputs": [],
   "source": [
    "hot[np.arange(ab.size), ab] = 1"
   ]
  },
  {
   "cell_type": "code",
   "execution_count": 136,
   "id": "65ed8066",
   "metadata": {},
   "outputs": [
    {
     "data": {
      "text/plain": [
       "array([[0., 1.],\n",
       "       [1., 0.],\n",
       "       [1., 0.],\n",
       "       [1., 0.]])"
      ]
     },
     "execution_count": 136,
     "metadata": {},
     "output_type": "execute_result"
    }
   ],
   "source": [
    "hot"
   ]
  },
  {
   "cell_type": "code",
   "execution_count": 137,
   "id": "d4ca660f",
   "metadata": {},
   "outputs": [],
   "source": [
    "hot = hot.T"
   ]
  },
  {
   "cell_type": "code",
   "execution_count": 138,
   "id": "8ea60278",
   "metadata": {},
   "outputs": [
    {
     "data": {
      "text/plain": [
       "array([[0., 1., 1., 1.],\n",
       "       [1., 0., 0., 0.]])"
      ]
     },
     "execution_count": 138,
     "metadata": {},
     "output_type": "execute_result"
    }
   ],
   "source": [
    "hot"
   ]
  },
  {
   "cell_type": "code",
   "execution_count": null,
   "id": "f359e7f1",
   "metadata": {},
   "outputs": [],
   "source": []
  }
 ],
 "metadata": {
  "kernelspec": {
   "display_name": "Python 3 (ipykernel)",
   "language": "python",
   "name": "python3"
  },
  "language_info": {
   "codemirror_mode": {
    "name": "ipython",
    "version": 3
   },
   "file_extension": ".py",
   "mimetype": "text/x-python",
   "name": "python",
   "nbconvert_exporter": "python",
   "pygments_lexer": "ipython3",
   "version": "3.9.13"
  }
 },
 "nbformat": 4,
 "nbformat_minor": 5
}
